{
 "cells": [
  {
   "cell_type": "code",
   "execution_count": 7,
   "metadata": {},
   "outputs": [
    {
     "name": "stdout",
     "output_type": "stream",
     "text": [
      "Very tricky!\n",
      "2**3 = 8\n",
      "5 - 3 = 2\n"
     ]
    }
   ],
   "source": [
    "#Practice Exercises 1\n",
    "message = \"This is going to be tricky. ;)\"\n",
    "Message = \"Very tricky!\"\n",
    "print(Message)\n",
    "\n",
    "result = 2**3\n",
    "print(\"2**3 =\", result)\n",
    "result = 5 - 3\n",
    "print(\"5 - 3 =\", result)"
   ]
  },
  {
   "cell_type": "code",
   "execution_count": 6,
   "metadata": {},
   "outputs": [
    {
     "name": "stdout",
     "output_type": "stream",
     "text": [
      "Practice Exercise 2:\n",
      "The message Hope you’re having fun!\n",
      "the answer is: 13\n",
      "5 - 3 = 2\n",
      "Done!\n"
     ]
    }
   ],
   "source": [
    "#Practice Exercises 2\n",
    "print(\"Practice Exercise 2:\")\n",
    "message = \"Hope you’re having fun!\"\n",
    "print(\"The message\", message)\n",
    "\n",
    "answer = 5+2**3;\n",
    "print(\"the answer is:\", answer)\n",
    "result = 5 - 3\n",
    "print(\"5 - 3 =\", result)\n",
    "print(\"Done!\")"
   ]
  },
  {
   "cell_type": "code",
   "execution_count": null,
   "metadata": {},
   "outputs": [],
   "source": []
  }
 ],
 "metadata": {
  "kernelspec": {
   "display_name": "Python 3",
   "language": "python",
   "name": "python3"
  },
  "language_info": {
   "codemirror_mode": {
    "name": "ipython",
    "version": 3
   },
   "file_extension": ".py",
   "mimetype": "text/x-python",
   "name": "python",
   "nbconvert_exporter": "python",
   "pygments_lexer": "ipython3",
   "version": "3.8.5"
  }
 },
 "nbformat": 4,
 "nbformat_minor": 4
}
