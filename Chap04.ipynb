{
 "cells": [
  {
   "cell_type": "code",
   "execution_count": 1,
   "metadata": {},
   "outputs": [
    {
     "name": "stdout",
     "output_type": "stream",
     "text": [
      "Hi!\n",
      "What's your name? rahma\n",
      "It's nice to meet you, rahma\n",
      "Are you enjoying the course? Yes\n",
      "That's good to hear!\n",
      "Final statement\n"
     ]
    }
   ],
   "source": [
    "#task 04_02\n",
    "print(\"Hi!\")\n",
    "name = input(\"What's your name? \")\n",
    "print(\"It's nice to meet you,\", name)\n",
    "answer = input(\"Are you enjoying the course? \")\n",
    "if answer == \"Yes\":\n",
    "    print(\"That's good to hear!\")\n",
    "print(\"Final statement\")\n"
   ]
  },
  {
   "cell_type": "code",
   "execution_count": 2,
   "metadata": {},
   "outputs": [
    {
     "name": "stdout",
     "output_type": "stream",
     "text": [
      "Cacti don't need a lot of water\n",
      "Thanks!\n"
     ]
    }
   ],
   "source": [
    "#task 04_03_Begin\n",
    "plant = \"Cacti\"\n",
    "if plant == \"Cacti\":\n",
    "    print(plant, \"don't need a lot of water\")\n",
    "else:\n",
    "    print(plant, \"love water\")\n",
    "print(\"Thanks!\")\n"
   ]
  },
  {
   "cell_type": "code",
   "execution_count": 3,
   "metadata": {},
   "outputs": [
    {
     "name": "stdout",
     "output_type": "stream",
     "text": [
      "Irises love water\n",
      "Thanks!\n"
     ]
    }
   ],
   "source": [
    "#task 04_03_End\n",
    "plant = \"Irises\"\n",
    "\n",
    "if plant == \"Cacti\":\n",
    "    print(plant, \"don't need a lot of water\")\n",
    "else:\n",
    "    print(plant, \"love water\")\n",
    "\n",
    "print(\"Thanks!\")\n"
   ]
  },
  {
   "cell_type": "code",
   "execution_count": 4,
   "metadata": {},
   "outputs": [
    {
     "name": "stdout",
     "output_type": "stream",
     "text": [
      "What's my favorite food? pizza\n",
      "Yuck! That’s not it!\n",
      "Thanks for playing!\n"
     ]
    }
   ],
   "source": [
    "#task 04_06\n",
    "guess = input(\"What's my favorite food? \")\n",
    "\n",
    "if guess == \"cookies\":\n",
    "    print(\"Yep! So amazing!\")\n",
    "else:\n",
    "    print(\"Yuck! That’s not it!\")\n",
    "\n",
    "print(\"Thanks for playing!\")\n"
   ]
  },
  {
   "cell_type": "code",
   "execution_count": 5,
   "metadata": {},
   "outputs": [
    {
     "name": "stdout",
     "output_type": "stream",
     "text": [
      "What's my favorite food? cookies\n",
      "Yep! So amazing!\n",
      "Thanks for playing!\n"
     ]
    }
   ],
   "source": [
    "#task 04_06\n",
    "guess = input(\"What's my favorite food? \")\n",
    "\n",
    "if guess == \"cookies\":\n",
    "    print(\"Yep! So amazing!\")\n",
    "else:\n",
    "    print(\"Yuck! That’s not it!\")\n",
    "\n",
    "print(\"Thanks for playing!\")"
   ]
  },
  {
   "cell_type": "code",
   "execution_count": null,
   "metadata": {},
   "outputs": [],
   "source": []
  }
 ],
 "metadata": {
  "kernelspec": {
   "display_name": "Python 3",
   "language": "python",
   "name": "python3"
  },
  "language_info": {
   "codemirror_mode": {
    "name": "ipython",
    "version": 3
   },
   "file_extension": ".py",
   "mimetype": "text/x-python",
   "name": "python",
   "nbconvert_exporter": "python",
   "pygments_lexer": "ipython3",
   "version": "3.8.5"
  }
 },
 "nbformat": 4,
 "nbformat_minor": 4
}
