{
 "cells": [
  {
   "cell_type": "code",
   "execution_count": 8,
   "metadata": {},
   "outputs": [
    {
     "data": {
      "text/plain": [
       "True"
      ]
     },
     "execution_count": 8,
     "metadata": {},
     "output_type": "execute_result"
    }
   ],
   "source": [
    "##Programming Foundations: Fundamentals\n",
    "##with Annyce Davis\n",
    "##Boolean Expressions and Relational Operators Practice Worksheet\n",
    "##Enter the following expressions on the command line and write down the values that result.\n",
    "##17 < 17  \n",
    "17 <17\n",
    "#False\n",
    "\n",
    "##15 == 3 * 5  \n",
    "15 == 3*5\n",
    "#True\n",
    "\n",
    "##15 <= 3 * 5\n",
    "15 <= 3 * 5\n",
    "#True\n",
    "\n",
    "##“Frank“ == “Sarah”  \n",
    "\"Frank\" == \"Sarah\"  \n",
    "#False\n",
    "\n",
    "##age = 13\n",
    "##age != 10 \n",
    "age = 13\n",
    "age != 10  \n",
    "#True\n",
    "                                        \n",
    "##age = 13\n",
    "##15 >= age + 2 \n",
    "age = 13\n",
    "15 >= age + 2  \n",
    "#True"
   ]
  },
  {
   "cell_type": "code",
   "execution_count": null,
   "metadata": {},
   "outputs": [],
   "source": []
  }
 ],
 "metadata": {
  "kernelspec": {
   "display_name": "Python 3",
   "language": "python",
   "name": "python3"
  },
  "language_info": {
   "codemirror_mode": {
    "name": "ipython",
    "version": 3
   },
   "file_extension": ".py",
   "mimetype": "text/x-python",
   "name": "python",
   "nbconvert_exporter": "python",
   "pygments_lexer": "ipython3",
   "version": "3.8.5"
  }
 },
 "nbformat": 4,
 "nbformat_minor": 4
}
