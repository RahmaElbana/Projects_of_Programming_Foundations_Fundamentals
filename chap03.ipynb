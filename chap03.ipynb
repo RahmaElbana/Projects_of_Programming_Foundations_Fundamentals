{
 "cells": [
  {
   "cell_type": "code",
   "execution_count": 1,
   "metadata": {},
   "outputs": [
    {
     "name": "stdout",
     "output_type": "stream",
     "text": [
      "36\n",
      "<class 'int'>\n",
      "john.doe@me.com\n",
      "<class 'str'>\n"
     ]
    }
   ],
   "source": [
    "#task >> 03_01_end\n",
    "\n",
    "age = 36\n",
    "print(age)\n",
    "print(type(age))\n",
    "\n",
    "email_address = \"john.doe@me.com\"\n",
    "print(email_address)\n",
    "print(type(email_address))\n"
   ]
  },
  {
   "cell_type": "code",
   "execution_count": 8,
   "metadata": {},
   "outputs": [
    {
     "name": "stdout",
     "output_type": "stream",
     "text": [
      "Sugar\n",
      "<class 'str'>\n",
      "1\n",
      "<class 'int'>\n",
      "3\n",
      "1\n",
      "Jeff\n",
      "Jeff\n"
     ]
    }
   ],
   "source": [
    "#task >> 03_02_end\n",
    "cookies = 'Sugar'\n",
    "print(cookies)\n",
    "print(type(cookies))\n",
    "\n",
    "cookies = 1\n",
    "print(cookies)\n",
    "print(type(cookies))\n",
    "\n",
    "Cookies = 3\n",
    "print(Cookies)\n",
    "print(cookies)\n",
    "\n",
    "first_name = \"Jeff\"\n",
    "print(first_name)\n",
    "\n",
    "first_Name = \"Sara\"\n",
    "print(first_name)\n"
   ]
  },
  {
   "cell_type": "code",
   "execution_count": 12,
   "metadata": {},
   "outputs": [
    {
     "name": "stdout",
     "output_type": "stream",
     "text": [
      "Hi!\n",
      "What's your name? rahma\n",
      "It's nice to meet you, rahma\n",
      "Are you enjoying the course? no\n",
      "Oh no! That makes me sad!\n"
     ]
    }
   ],
   "source": [
    "#task >> 03_05_begin\n",
    "print(\"Hi!\")\n",
    "name = input(\"What's your name? \")\n",
    "print(\"It's nice to meet you,\", name)\n",
    "answer = input(\"Are you enjoying the course? \")\n",
    "if answer == \"Yes\":\n",
    "    print(\"That's good to hear!\")\n",
    "else:\n",
    "    print(\"Oh no! That makes me sad!\")"
   ]
  },
  {
   "cell_type": "code",
   "execution_count": 11,
   "metadata": {},
   "outputs": [
    {
     "name": "stdout",
     "output_type": "stream",
     "text": [
      "Hi!\n",
      "What's your name? rahma\n",
      "It's nice to meet you, rahma\n",
      "Are you enjoying the course? Yes\n",
      "That's good to hear!\n"
     ]
    }
   ],
   "source": [
    "#task >> 03_05_end\n",
    "print(\"Hi!\")\n",
    "name = input(\"What's your name? \")\n",
    "\n",
    "print(\"It's nice to meet you,\", name)\n",
    "answer = input(\"Are you enjoying the course? \")\n",
    "\n",
    "if answer == \"Yes\":\n",
    "    print(\"That's good to hear!\")\n",
    "else:\n",
    "    print(\"Oh no! That makes me sad!\")"
   ]
  },
  {
   "cell_type": "code",
   "execution_count": 13,
   "metadata": {},
   "outputs": [
    {
     "name": "stdout",
     "output_type": "stream",
     "text": [
      "Hi!\n",
      "What's your name? rahma\n",
      "It's nice to meet you, rahma\n",
      "Are you enjoying the course? Yes\n",
      "That's good to hear!\n"
     ]
    }
   ],
   "source": [
    "#task >> 03_06_begin\n",
    "print(\"Hi!\")\n",
    "\n",
    "name = input(\"What's your name? \")\n",
    "print(\"It's nice to meet you,\", name)\n",
    "\n",
    "answer = input(\"Are you enjoying the course? \")\n",
    "\n",
    "if answer == \"Yes\":\n",
    "     print(\"That's good to hear!\")\n",
    "else:\n",
    "    print(\"Oh no! That makes me sad!\")"
   ]
  },
  {
   "cell_type": "code",
   "execution_count": 14,
   "metadata": {},
   "outputs": [
    {
     "name": "stdout",
     "output_type": "stream",
     "text": [
      "Hi!\n",
      "What's your name? rahma ahmed shaban\n",
      "It's nice to meet you, rahma ahmed shaban\n"
     ]
    }
   ],
   "source": [
    "#task >> 03_05_end\n",
    "\n",
    "print(\"Hi!\")\n",
    "\n",
    "name = input(\"What's your name? \") \n",
    "print(\"It's nice to meet you,\", name)\n"
   ]
  },
  {
   "cell_type": "code",
   "execution_count": 15,
   "metadata": {},
   "outputs": [
    {
     "name": "stdout",
     "output_type": "stream",
     "text": [
      "Challenge 1:\n",
      "This is going to be tricky ;)\n",
      "2**3 = 8\n",
      "Challenge complete!\n"
     ]
    }
   ],
   "source": [
    "#task >> 03_07\n",
    "print(\"Challenge 1:\")\n",
    "\n",
    "message = \"This is going to be tricky ;)\"\n",
    "Message = \"Very tricky!\"\n",
    "print(message) \n",
    "\n",
    "result = 2**3\n",
    "print(\"2**3 =\", result)\n",
    "result = 5 - 3\n",
    "\n",
    "print(\"Challenge complete!\")"
   ]
  }
 ],
 "metadata": {
  "kernelspec": {
   "display_name": "Python 3",
   "language": "python",
   "name": "python3"
  },
  "language_info": {
   "codemirror_mode": {
    "name": "ipython",
    "version": 3
   },
   "file_extension": ".py",
   "mimetype": "text/x-python",
   "name": "python",
   "nbconvert_exporter": "python",
   "pygments_lexer": "ipython3",
   "version": "3.8.5"
  }
 },
 "nbformat": 4,
 "nbformat_minor": 4
}
