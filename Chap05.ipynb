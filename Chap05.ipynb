{
 "cells": [
  {
   "cell_type": "code",
   "execution_count": 1,
   "metadata": {},
   "outputs": [
    {
     "name": "stdout",
     "output_type": "stream",
     "text": [
      "~~~ The Shimmy ~~~\n",
      "Take one step to the right and stomp.\n",
      "Take one step to the left and stomp.\n",
      "Shake those hips!\n"
     ]
    }
   ],
   "source": [
    "#task 05_01_Begin\n",
    "print(\"~~~ The Shimmy ~~~\")\n",
    "\n",
    "print(\"Take one step to the right and stomp.\")\n",
    "print(\"Take one step to the left and stomp.\")\n",
    "print(\"Shake those hips!\") \n"
   ]
  },
  {
   "cell_type": "code",
   "execution_count": 9,
   "metadata": {},
   "outputs": [
    {
     "name": "stdout",
     "output_type": "stream",
     "text": [
      "~~~ The Shimmy ~~~\n",
      "Take one step to the right and stomp.\n",
      "Take one step to the left and stomp.\n",
      "Shake those hips!\n",
      "Take one step to the right and stomp.\n",
      "Take one step to the left and stomp.\n",
      "Shake those hips!\n",
      "Take one step to the right and stomp.\n",
      "Take one step to the left and stomp.\n",
      "Shake those hips!\n"
     ]
    }
   ],
   "source": [
    "#task 05_01_End\n",
    "print(\"~~~ The Shimmy ~~~\")\n",
    "\n",
    "def shimmy():\n",
    "    print(\"Take one step to the right and stomp.\")\n",
    "    print(\"Take one step to the left and stomp.\")\n",
    "    print(\"Shake those hips!\")\n",
    "\n",
    "shimmy()\n",
    "shimmy()\n",
    "shimmy()\n"
   ]
  },
  {
   "cell_type": "code",
   "execution_count": 10,
   "metadata": {},
   "outputs": [
    {
     "name": "stdout",
     "output_type": "stream",
     "text": [
      "Hello, friends!\n",
      "Hello, friends!\n",
      "Hello, friends!\n"
     ]
    }
   ],
   "source": [
    "#task 05_02_Begin\n",
    "#task 05_02_End\n",
    "def say_hello():\n",
    "    print(\"Hello, friends!\")\n",
    "\n",
    "say_hello()\n",
    "say_hello()\n",
    "say_hello()"
   ]
  },
  {
   "cell_type": "code",
   "execution_count": 12,
   "metadata": {},
   "outputs": [],
   "source": [
    "#task 05_03_Begin\n",
    "def wash_car():\n",
    "    print(\"Wash with tri-color foam\")\n",
    "    print(\"Rinse twice\")\n",
    "    print(\"Dry with large blow dryer\")\n",
    "\n",
    "    print(\"Wash with white foam\")\n",
    "    print(\"Rinse once\")\n",
    "    print(\"Air dry\") \n"
   ]
  },
  {
   "cell_type": "code",
   "execution_count": 13,
   "metadata": {},
   "outputs": [
    {
     "name": "stdout",
     "output_type": "stream",
     "text": [
      "Wash with white foam\n",
      "Rinse once\n",
      "Air dry\n"
     ]
    }
   ],
   "source": [
    "#task 05_03_End\n",
    "def wash_car(amount_paid):\n",
    "    if (amount_paid == 12):\n",
    "        print(\"Wash with tri-color foam\")\n",
    "        print(\"Rinse twice\")\n",
    "        print(\"Dry with large blow dryer\")\n",
    "\n",
    "    if (amount_paid == 6):\n",
    "        print(\"Wash with white foam\")\n",
    "        print(\"Rinse once\")\n",
    "        print(\"Air dry\") \n",
    "\n",
    "wash_car(6) "
   ]
  },
  {
   "cell_type": "code",
   "execution_count": 14,
   "metadata": {},
   "outputs": [
    {
     "name": "stdout",
     "output_type": "stream",
     "text": [
      "The balance is 20\n"
     ]
    }
   ],
   "source": [
    "#task 05_04_Begin\n",
    "def withdraw_money(current_balance, amount):\n",
    "    if (current_balance >= amount):\n",
    "        current_balance = current_balance - amount\n",
    "        print(\"The balance is\", current_balance)\n",
    "\n",
    "withdraw_money(100, 80)\n"
   ]
  },
  {
   "cell_type": "code",
   "execution_count": 15,
   "metadata": {},
   "outputs": [
    {
     "name": "stdout",
     "output_type": "stream",
     "text": [
      "We need to make a deposit\n"
     ]
    }
   ],
   "source": [
    "#task 05_04_End\n",
    "def withdraw_money(current_balance, amount):\n",
    "    if (current_balance >= amount):\n",
    "        current_balance = current_balance - amount\n",
    "        return current_balance\n",
    "\n",
    "balance = withdraw_money(100, 80)\n",
    "\n",
    "if (balance <= 50):\n",
    "    print(\"We need to make a deposit\")\n",
    "else:\n",
    "    print(\"Nothing to see here!\")\n"
   ]
  },
  {
   "cell_type": "code",
   "execution_count": 8,
   "metadata": {},
   "outputs": [
    {
     "name": "stdout",
     "output_type": "stream",
     "text": [
      "One of my favorite cities is Santa Barbara, California\n",
      "One of my favorite cities is Asheville, North Carolina\n",
      "One of my favorite cities is Amsterdam, The Netherlands\n"
     ]
    }
   ],
   "source": [
    "#task 05_07\n",
    "# Prints out the name of a favorite city\n",
    "def favorite_city(name):\n",
    "    print(\"One of my favorite cities is\", name)\n",
    "favorite_city(\"Santa Barbara, California\")\n",
    "favorite_city(\"Asheville, North Carolina\")\n",
    "favorite_city(\"Amsterdam, The Netherlands\")\n"
   ]
  },
  {
   "cell_type": "code",
   "execution_count": null,
   "metadata": {},
   "outputs": [],
   "source": []
  }
 ],
 "metadata": {
  "kernelspec": {
   "display_name": "Python 3",
   "language": "python",
   "name": "python3"
  },
  "language_info": {
   "codemirror_mode": {
    "name": "ipython",
    "version": 3
   },
   "file_extension": ".py",
   "mimetype": "text/x-python",
   "name": "python",
   "nbconvert_exporter": "python",
   "pygments_lexer": "ipython3",
   "version": "3.8.5"
  }
 },
 "nbformat": 4,
 "nbformat_minor": 4
}
